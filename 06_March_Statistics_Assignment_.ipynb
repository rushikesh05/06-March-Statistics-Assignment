{
  "nbformat": 4,
  "nbformat_minor": 0,
  "metadata": {
    "colab": {
      "provenance": []
    },
    "kernelspec": {
      "name": "python3",
      "display_name": "Python 3"
    },
    "language_info": {
      "name": "python"
    }
  },
  "cells": [
    {
      "cell_type": "markdown",
      "source": [
        "##Q1. What is Statistics?\n",
        "* Statistics is a branch of mathematics that involves the collection, analysis, interpretation, presentation, and organization of data. It is a way of making sense of large and complex sets of data and providing insights into patterns, trends, and relationships that may not be immediately obvious.\n",
        "\n",
        "* Statistics can be used to answer questions about the world, make predictions, test hypotheses, and support decision-making in a wide range of fields, including science, business, economics, engineering, and social sciences. It involves a range of techniques and tools, including probability theory, hypothesis testing, regression analysis, and data visualization, among others. Overall, statistics is an important tool for making sense of the vast amount of data that is available in the world today."
      ],
      "metadata": {
        "id": "8f-K31HyCZBy"
      }
    },
    {
      "cell_type": "markdown",
      "source": [
        "##Q2. Define the different types of statistics and give an example of when each type might be used.\n",
        "\n",
        "###There are two main types of statistics: descriptive statistics and inferential statistics. Here are their definitions and examples of when each type might be used:\n",
        "\n",
        "#1. Descriptive Statistics:\n",
        "* Descriptive statistics is the branch of statistics that deals with summarizing and describing the properties of a set of data. It involves calculating measures of central tendency, such as mean, median, and mode, and measures of dispersion, such as range, variance, and standard deviation. Descriptive statistics can be used to provide a quick summary of the data, identify patterns, and describe the general shape of the data distribution.\n",
        "###Example: A company wants to analyze the sales data for the last quarter to understand how its products are performing in the market. They calculate the mean, median, and mode of the sales data to determine the average sales, the sales value that occurs most frequently, and the sales value that represents the midpoint of the distribution. This information helps the company to understand the performance of their products.\n",
        "\n",
        "#2. Inferential Statistics:\n",
        "* Inferential statistics is the branch of statistics that deals with making predictions or generalizations about a larger population based on a sample of data. It involves testing hypotheses, estimating population parameters, and determining the significance of relationships between variables. Inferential statistics can be used to draw conclusions about the population based on the characteristics of the sample.\n",
        "###Example: A researcher wants to investigate the relationship between smoking and lung cancer. The researcher selects a sample of participants and collects data on their smoking habits and whether they have lung cancer. The researcher then uses inferential statistics to test whether there is a significant relationship between smoking and lung cancer in the population. The results of the study can be used to make generalizations about the population as a whole."
      ],
      "metadata": {
        "id": "soKjimdOCqM1"
      }
    },
    {
      "cell_type": "markdown",
      "source": [
        "##Q3. What are the different types of data and how do they differ from each other? Provide an example of each type of data.\n",
        "\n",
        "###There are four main types of data: nominal, ordinal, interval, and ratio. Here are their definitions and examples of each type of data:\n",
        "\n",
        "#1. Nominal Data:\n",
        "* Nominal data is a type of categorical data that is used to represent data in which there is no inherent order. It is used to label, identify or classify data. Nominal data can be expressed in words, letters, or numbers, but the value of each category has no inherent meaning or value.\n",
        "###Example: The colors of cars in a parking lot are nominal data. The colors are categories that represent different groups of cars, but there is no inherent order or ranking among them.\n",
        "\n",
        "#.2 Ordinal Data:\n",
        "* Ordinal data is a type of categorical data in which the categories have a natural order or ranking. The intervals between categories are not necessarily equal.\n",
        "### Example: The ranks of students in a class from highest to lowest is an example of ordinal data. The rankings have a natural order, but the intervals between each rank may not be equal.\n",
        "\n",
        "#.3 Interval Data:\n",
        "Interval data is a type of numerical data in which the intervals between values are equal. It has a natural zero point, but the zero point does not indicate an absence of the quantity being measured.\n",
        "###Example: Temperature measured in degrees Celsius or Fahrenheit is an example of interval data. The intervals between each temperature value are equal, but the zero point (absolute zero) does not indicate the absence of temperature.\n",
        "\n",
        "#4. Ratio Data:\n",
        "* Ratio data is a type of numerical data in which the intervals between values are equal, and there is a true zero point that represents the absence of the quantity being measured.\n",
        "###Example: The weight of objects measured in kilograms or pounds is an example of ratio data. The intervals between each weight value are equal, and the zero point (absence of weight) represents an absolute absence of the quantity being measured."
      ],
      "metadata": {
        "id": "S27GSDcyDZI8"
      }
    },
    {
      "cell_type": "markdown",
      "source": [
        "##Q4. Categorise the following datasets with respect to quantitative and qualitative data types:\n",
        "```\n",
        "(i) Grading in exam: A+, A, B+, B, C+, C, D, E\n",
        "(ii) Colour of mangoes: yellow, green, orange, red\n",
        "(iii) Height data of a class: [178.9, 179, 179.5, 176, 177.2, 178.3, 175.8,...]\n",
        "(iv) Number of mangoes exported by a farm: [500, 600, 478, 672, ...]\n",
        "```\n",
        "\n",
        "#Ans:----------------\n",
        "\n",
        "##(i) Grading in exam: Qualitative (Ordinal)\n",
        "##(ii) Colour of mangoes: Qualitative (Nominal)\n",
        "##(iii) Height data of a class: Quantitative (Continuous, Interval)\n",
        "##(iv) Number of mangoes exported by a farm: Quantitative (Discrete, Ratio)"
      ],
      "metadata": {
        "id": "jnARj3kaES-z"
      }
    },
    {
      "cell_type": "markdown",
      "source": [
        "##Q5. Explain the concept of levels of measurement and give an example of a variable for each level.\n",
        "\n",
        "###The levels of measurement refer to the way in which data is measured or categorized. There are four levels of measurement: nominal, ordinal, interval, and ratio. Each level has different properties and the level of measurement determines what statistical analyses can be applied to the data. \n",
        "###Here are the definitions and examples of each level:\n",
        "\n",
        "#1. Nominal Level:\n",
        "* Nominal level is the lowest level of measurement and refers to data that is classified into mutually exclusive categories with no inherent order or ranking.\n",
        "###Example: Gender (Male, Female), Marital Status (Married, Single, Divorced), or Eye color (Blue, Brown, Green, etc.)\n",
        "\n",
        "#.2 Ordinal Level:\n",
        "* Ordinal level refers to data that is classified into categories that have a natural order or ranking. The intervals between categories are not necessarily equal.\n",
        "###Example: Education level (High School, Bachelor's, Master's, PhD), or Customer satisfaction ratings (Very satisfied, Satisfied, Neutral, Unsatisfied, Very unsatisfied).\n",
        "\n",
        "#3. Interval Level:\n",
        "* Interval level refers to data that is measured on a scale with equal intervals between measurements, but there is no true zero point.\n",
        "###Example: Temperature in Celsius or Fahrenheit, or IQ scores.\n",
        "\n",
        "#.4 Ratio Level:\n",
        "* Ratio level refers to data that is measured on a scale with equal intervals between measurements and there is a true zero point that represents an absence of the quantity being measured.\n",
        "###Example: Height, weight, or income.\n",
        "\n",
        "####The level of measurement of a variable is an important consideration when selecting statistical methods and interpreting the results."
      ],
      "metadata": {
        "id": "GlxH1RfnEpTe"
      }
    },
    {
      "cell_type": "markdown",
      "source": [
        "##Q6. Why is it important to understand the level of measurement when analyzing data? Provide an example to illustrate your answer.\n",
        "\n",
        "###It is important to understand the level of measurement when analyzing data because it determines the statistical methods that can be used, and the appropriate way to describe and interpret the data. Different levels of measurement require different statistical methods, and using an inappropriate method can lead to incorrect conclusions.\n",
        "\n",
        " * For example, if we have a variable that measures people's satisfaction with a product or service, and it is measured on a Likert scale (e.g. strongly agree, agree, neutral, disagree, strongly disagree), we know that this is an ordinal level of measurement. We cannot use methods that assume an interval or ratio scale, such as computing the mean or standard deviation of the scores, because the intervals between the categories are not necessarily equal.\n",
        "\n",
        "* On the other hand, if we have a variable that measures the weight of objects, we know that this is a ratio level of measurement. We can use methods that assume an interval or ratio scale, such as computing the mean or standard deviation of the weights, because the intervals between the values are equal and there is a true zero point.\n",
        "\n",
        "###Understanding the level of measurement helps us to choose the appropriate statistical methods, describe the data accurately, and draw valid conclusions from the data."
      ],
      "metadata": {
        "id": "JDQ1HQ-vWOtx"
      }
    },
    {
      "cell_type": "markdown",
      "source": [
        "##Q7. How nominal data type is different from ordinal data type.\n",
        "\n",
        "###Nominal and ordinal are both types of categorical data, but they differ in terms of the level of measurement and the properties of the categories.\n",
        "\n",
        "* Nominal data refers to data that is divided into categories that have no inherent order or ranking. Each category is mutually exclusive and there is no relationship between the categories.\n",
        "\n",
        "###For example, the categories for the nominal variable \"Color of Cars\" could be \"Red\", \"Green\", \"Blue\", and \"Black\". These categories have no inherent order or ranking and are mutually exclusive.\n",
        "\n",
        "* Ordinal data, on the other hand, refers to data that is divided into categories that have a natural order or ranking. The categories are mutually exclusive, but there is a clear relationship between the categories.\n",
        "\n",
        "###For example, the categories for the ordinal variable \"Educational Level\" could be \"High School\", \"Bachelor's Degree\", \"Master's Degree\", and \"PhD\". These categories have a natural order, where a Master's Degree is higher than a Bachelor's Degree, but there is no quantifiable difference between the degrees.\n",
        "\n",
        "\n",
        "*  The key difference between nominal and ordinal data is that ordinal data has a natural order or ranking, while nominal data does not. This difference affects the types of statistical analyses that can be performed on the data. Nominal data can be analyzed using methods such as frequency counts and chi-square tests, while ordinal data can be analyzed using methods such as median and ordinal regression.\n"
      ],
      "metadata": {
        "id": "I5G5fInkZEps"
      }
    },
    {
      "cell_type": "markdown",
      "source": [
        "##Q8. Which type of plot can be used to display data in terms of range?\n",
        "\n",
        "* A box plot, also known as a box-and-whisker plot, can be used to display data in terms of range. The box plot displays the median, quartiles, and the range of the data. The box represents the interquartile range (IQR), which is the middle 50% of the data. The line inside the box represents the median, which is the middle value of the data. The whiskers extend from the box to the minimum and maximum values, or to a specified range based on the data.\n",
        "\n",
        "* Box plots are useful for comparing the spread and shape of the data between different groups or variables. They can also identify outliers, which are data points that are significantly different from the rest of the data. Box plots are commonly used in exploratory data analysis and can provide a quick summary of the data distribution."
      ],
      "metadata": {
        "id": "9adn8CirZstj"
      }
    },
    {
      "cell_type": "markdown",
      "source": [
        "##Q9. Describe the difference between descriptive and inferential statistics. Give an example of each type of statistics and explain how they are used.\n",
        "\n",
        "###Descriptive statistics and inferential statistics are both branches of statistics that serve different purposes.\n",
        "\n",
        "#1. Descriptive statistics:-\n",
        " * refers to methods of summarizing and describing data in a way that is easily understood. It is used to describe the main features of a data set, such as the central tendency (mean, median, mode), the variability (range, variance, standard deviation), and the shape of the distribution. Descriptive statistics can be used to draw conclusions about the sample, but they cannot be used to make inferences about the population.\n",
        "\n",
        "* For example, suppose we conduct a survey of 1000 people to understand their attitudes towards climate change. We can use descriptive statistics to summarize the responses by calculating the percentage of people who believe that climate change is caused by human activity, the average rating of concern about climate change, and the range of responses.\n",
        "\n",
        "#2. Inferential statistics:-\n",
        "*  on the other hand, is used to make inferences about a population based on a sample. It involves using probability theory to estimate population parameters and testing hypotheses about the population based on sample data. Inferential statistics is used to draw conclusions about a larger group, such as a population, based on a smaller sample.\n",
        "\n",
        "* For example, suppose we want to understand the average height of students in a school. We could randomly select a sample of students and calculate their average height. However, we cannot assume that the sample accurately represents the population. Therefore, we use inferential statistics to estimate the range of heights of the entire student population based on the sample data. We can also use inferential statistics to test whether there is a significant difference in the average height between male and female students."
      ],
      "metadata": {
        "id": "4X7gmr7cZ9WG"
      }
    },
    {
      "cell_type": "markdown",
      "source": [
        "##Q10. What are some common measures of central tendency and variability used in statistics? Explainhow each measure can be used to describe a dataset.\n",
        "\n",
        "###Measures of central tendency are used to describe the typical or central value of a dataset. The most common measures of central tendency are:\n",
        "\n",
        "* Mean: The arithmetic mean is the sum of all values in the dataset divided by the number of values. It is used to describe the average value of the data.\n",
        "\n",
        "* Median: The median is the middle value of a dataset when it is arranged in order. It is used to describe the central value of the data and is less affected by extreme values than the mean.\n",
        "\n",
        "* Mode: The mode is the value that appears most frequently in the dataset. It is used to describe the most common value of the data.\n",
        "\n",
        "###Measures of variability are used to describe the spread or dispersion of a dataset. The most common measures of variability are:\n",
        "\n",
        "* Range: The range is the difference between the maximum and minimum values in the dataset. It is used to describe the spread of the data over the entire range.\n",
        "\n",
        "* Variance: The variance is the average of the squared differences from the mean. It is used to describe the degree of variability of the data.\n",
        "\n",
        "* Standard deviation: The standard deviation is the square root of the variance. It is used to describe the spread of the data around the mean and is a common measure of variability in normal distributions.\n"
      ],
      "metadata": {
        "id": "MpfUZwf8axWN"
      }
    },
    {
      "cell_type": "code",
      "execution_count": null,
      "metadata": {
        "id": "SRJDPkmVCHO-"
      },
      "outputs": [],
      "source": []
    }
  ]
}